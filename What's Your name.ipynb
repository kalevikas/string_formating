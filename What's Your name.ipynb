{
 "cells": [
  {
   "cell_type": "code",
   "execution_count": 3,
   "id": "eff43e3b",
   "metadata": {},
   "outputs": [],
   "source": [
    "def print_full_name(first, last):\n",
    "    string=\"Hello %s %s!  You just delved into python.\"%(first,last)\n",
    "    return string\n",
    "    "
   ]
  },
  {
   "cell_type": "code",
   "execution_count": 5,
   "id": "9a8c7d5c",
   "metadata": {},
   "outputs": [
    {
     "data": {
      "text/plain": [
       "'Hello Ross Taylor!  You just delved into python.'"
      ]
     },
     "execution_count": 5,
     "metadata": {},
     "output_type": "execute_result"
    }
   ],
   "source": [
    "print_full_name('Ross','Taylor')"
   ]
  },
  {
   "cell_type": "code",
   "execution_count": 6,
   "id": "c68d4cd8",
   "metadata": {},
   "outputs": [],
   "source": [
    "def print_full_name(first, last):\n",
    "    #string=\"Hello %s %s! You just delved into python.\"%(first,last)\n",
    "    string = \"Hello {} {}! You just delved into python.\".format(first,last)\n",
    "    return string"
   ]
  },
  {
   "cell_type": "code",
   "execution_count": 7,
   "id": "252641c4",
   "metadata": {},
   "outputs": [
    {
     "data": {
      "text/plain": [
       "'Hello Ross Taylor! You just delved into python.'"
      ]
     },
     "execution_count": 7,
     "metadata": {},
     "output_type": "execute_result"
    }
   ],
   "source": [
    "print_full_name('Ross','Taylor')"
   ]
  },
  {
   "cell_type": "code",
   "execution_count": null,
   "id": "8622cf8a",
   "metadata": {},
   "outputs": [],
   "source": []
  },
  {
   "cell_type": "code",
   "execution_count": 12,
   "id": "a1010321",
   "metadata": {},
   "outputs": [],
   "source": [
    "def print_full_name(a, b):\n",
    "    #string=\"Hello %s %s! You just delved into python.\"%(first,last)\n",
    "    print(\"Hello \"+a+\" \"+b+\"! \"+ \"You just delved into python.\")"
   ]
  },
  {
   "cell_type": "code",
   "execution_count": 13,
   "id": "1febd268",
   "metadata": {},
   "outputs": [
    {
     "name": "stdout",
     "output_type": "stream",
     "text": [
      "Hello Vikas Kale! You just delved into python.\n"
     ]
    }
   ],
   "source": [
    "print_full_name(\"Vikas\",\"Kale\")"
   ]
  },
  {
   "cell_type": "markdown",
   "id": "880cb207",
   "metadata": {},
   "source": [
    "## String Formating"
   ]
  },
  {
   "cell_type": "code",
   "execution_count": 14,
   "id": "50ace6a1",
   "metadata": {},
   "outputs": [],
   "source": [
    "greet=\"Hello my name is %s and my surname is %s\"%('vikas','kale')"
   ]
  },
  {
   "cell_type": "code",
   "execution_count": 15,
   "id": "7d06963f",
   "metadata": {},
   "outputs": [
    {
     "name": "stdout",
     "output_type": "stream",
     "text": [
      "Hello my name is vikas and my surname is kale\n"
     ]
    }
   ],
   "source": [
    "print(greet)"
   ]
  },
  {
   "cell_type": "markdown",
   "id": "58fd3170",
   "metadata": {},
   "source": [
    "### Using f String"
   ]
  },
  {
   "cell_type": "code",
   "execution_count": null,
   "id": "d387d67c",
   "metadata": {},
   "outputs": [],
   "source": [
    "name='vikas'\n",
    "surname='kale'\n",
    "full_name=f\""
   ]
  }
 ],
 "metadata": {
  "kernelspec": {
   "display_name": "Python 3",
   "language": "python",
   "name": "python3"
  },
  "language_info": {
   "codemirror_mode": {
    "name": "ipython",
    "version": 3
   },
   "file_extension": ".py",
   "mimetype": "text/x-python",
   "name": "python",
   "nbconvert_exporter": "python",
   "pygments_lexer": "ipython3",
   "version": "3.8.8"
  }
 },
 "nbformat": 4,
 "nbformat_minor": 5
}
